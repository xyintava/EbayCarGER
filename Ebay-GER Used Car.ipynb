{
 "cells": [
  {
   "cell_type": "markdown",
   "metadata": {},
   "source": [
    "# Ebay Germany Used Cars \n",
    "\n",
    "Original Dataset: Taken from [Used cars database](https://www.kaggle.com/orgesleka/used-cars-database/data)<br>\n",
    "Dataset: [Sample used](https://www.kaggle.com/piumiu/exploring-ebay-car-sales-data)<br>\n",
    "Size: 50,000 out of the original 370,000<br>\n",
    "Purpose: To clean and explore the dataset while learning about how the pandas library is intigrated with jupyter notebook.<br>"
   ]
  },
  {
   "cell_type": "code",
   "execution_count": 1,
   "metadata": {},
   "outputs": [],
   "source": [
    "# importing the dataset\n",
    "# file is named 'autos.csv' located in the same directory as this file\n",
    "\n",
    "import pandas as pd\n",
    "\n",
    "autos = pd.read_csv('autos.csv', encoding='Latin-1')"
   ]
  },
  {
   "cell_type": "code",
   "execution_count": 2,
   "metadata": {},
   "outputs": [
    {
     "name": "stdout",
     "output_type": "stream",
     "text": [
      "<class 'pandas.core.frame.DataFrame'>\n",
      "RangeIndex: 50000 entries, 0 to 49999\n",
      "Data columns (total 20 columns):\n",
      "dateCrawled            50000 non-null object\n",
      "name                   50000 non-null object\n",
      "seller                 50000 non-null object\n",
      "offerType              50000 non-null object\n",
      "price                  50000 non-null object\n",
      "abtest                 50000 non-null object\n",
      "vehicleType            44905 non-null object\n",
      "yearOfRegistration     50000 non-null int64\n",
      "gearbox                47320 non-null object\n",
      "powerPS                50000 non-null int64\n",
      "model                  47242 non-null object\n",
      "odometer               50000 non-null object\n",
      "monthOfRegistration    50000 non-null int64\n",
      "fuelType               45518 non-null object\n",
      "brand                  50000 non-null object\n",
      "notRepairedDamage      40171 non-null object\n",
      "dateCreated            50000 non-null object\n",
      "nrOfPictures           50000 non-null int64\n",
      "postalCode             50000 non-null int64\n",
      "lastSeen               50000 non-null object\n",
      "dtypes: int64(5), object(15)\n",
      "memory usage: 7.6+ MB\n"
     ]
    }
   ],
   "source": [
    "autos.info()"
   ]
  },
  {
   "cell_type": "code",
   "execution_count": 3,
   "metadata": {},
   "outputs": [
    {
     "data": {
      "text/html": [
       "<div>\n",
       "<style scoped>\n",
       "    .dataframe tbody tr th:only-of-type {\n",
       "        vertical-align: middle;\n",
       "    }\n",
       "\n",
       "    .dataframe tbody tr th {\n",
       "        vertical-align: top;\n",
       "    }\n",
       "\n",
       "    .dataframe thead th {\n",
       "        text-align: right;\n",
       "    }\n",
       "</style>\n",
       "<table border=\"1\" class=\"dataframe\">\n",
       "  <thead>\n",
       "    <tr style=\"text-align: right;\">\n",
       "      <th></th>\n",
       "      <th>dateCrawled</th>\n",
       "      <th>name</th>\n",
       "      <th>seller</th>\n",
       "      <th>offerType</th>\n",
       "      <th>price</th>\n",
       "      <th>abtest</th>\n",
       "      <th>vehicleType</th>\n",
       "      <th>yearOfRegistration</th>\n",
       "      <th>gearbox</th>\n",
       "      <th>powerPS</th>\n",
       "      <th>model</th>\n",
       "      <th>odometer</th>\n",
       "      <th>monthOfRegistration</th>\n",
       "      <th>fuelType</th>\n",
       "      <th>brand</th>\n",
       "      <th>notRepairedDamage</th>\n",
       "      <th>dateCreated</th>\n",
       "      <th>nrOfPictures</th>\n",
       "      <th>postalCode</th>\n",
       "      <th>lastSeen</th>\n",
       "    </tr>\n",
       "  </thead>\n",
       "  <tbody>\n",
       "    <tr>\n",
       "      <th>0</th>\n",
       "      <td>2016-03-26 17:47:46</td>\n",
       "      <td>Peugeot_807_160_NAVTECH_ON_BOARD</td>\n",
       "      <td>privat</td>\n",
       "      <td>Angebot</td>\n",
       "      <td>$5,000</td>\n",
       "      <td>control</td>\n",
       "      <td>bus</td>\n",
       "      <td>2004</td>\n",
       "      <td>manuell</td>\n",
       "      <td>158</td>\n",
       "      <td>andere</td>\n",
       "      <td>150,000km</td>\n",
       "      <td>3</td>\n",
       "      <td>lpg</td>\n",
       "      <td>peugeot</td>\n",
       "      <td>nein</td>\n",
       "      <td>2016-03-26 00:00:00</td>\n",
       "      <td>0</td>\n",
       "      <td>79588</td>\n",
       "      <td>2016-04-06 06:45:54</td>\n",
       "    </tr>\n",
       "    <tr>\n",
       "      <th>1</th>\n",
       "      <td>2016-04-04 13:38:56</td>\n",
       "      <td>BMW_740i_4_4_Liter_HAMANN_UMBAU_Mega_Optik</td>\n",
       "      <td>privat</td>\n",
       "      <td>Angebot</td>\n",
       "      <td>$8,500</td>\n",
       "      <td>control</td>\n",
       "      <td>limousine</td>\n",
       "      <td>1997</td>\n",
       "      <td>automatik</td>\n",
       "      <td>286</td>\n",
       "      <td>7er</td>\n",
       "      <td>150,000km</td>\n",
       "      <td>6</td>\n",
       "      <td>benzin</td>\n",
       "      <td>bmw</td>\n",
       "      <td>nein</td>\n",
       "      <td>2016-04-04 00:00:00</td>\n",
       "      <td>0</td>\n",
       "      <td>71034</td>\n",
       "      <td>2016-04-06 14:45:08</td>\n",
       "    </tr>\n",
       "    <tr>\n",
       "      <th>2</th>\n",
       "      <td>2016-03-26 18:57:24</td>\n",
       "      <td>Volkswagen_Golf_1.6_United</td>\n",
       "      <td>privat</td>\n",
       "      <td>Angebot</td>\n",
       "      <td>$8,990</td>\n",
       "      <td>test</td>\n",
       "      <td>limousine</td>\n",
       "      <td>2009</td>\n",
       "      <td>manuell</td>\n",
       "      <td>102</td>\n",
       "      <td>golf</td>\n",
       "      <td>70,000km</td>\n",
       "      <td>7</td>\n",
       "      <td>benzin</td>\n",
       "      <td>volkswagen</td>\n",
       "      <td>nein</td>\n",
       "      <td>2016-03-26 00:00:00</td>\n",
       "      <td>0</td>\n",
       "      <td>35394</td>\n",
       "      <td>2016-04-06 20:15:37</td>\n",
       "    </tr>\n",
       "    <tr>\n",
       "      <th>3</th>\n",
       "      <td>2016-03-12 16:58:10</td>\n",
       "      <td>Smart_smart_fortwo_coupe_softouch/F1/Klima/Pan...</td>\n",
       "      <td>privat</td>\n",
       "      <td>Angebot</td>\n",
       "      <td>$4,350</td>\n",
       "      <td>control</td>\n",
       "      <td>kleinwagen</td>\n",
       "      <td>2007</td>\n",
       "      <td>automatik</td>\n",
       "      <td>71</td>\n",
       "      <td>fortwo</td>\n",
       "      <td>70,000km</td>\n",
       "      <td>6</td>\n",
       "      <td>benzin</td>\n",
       "      <td>smart</td>\n",
       "      <td>nein</td>\n",
       "      <td>2016-03-12 00:00:00</td>\n",
       "      <td>0</td>\n",
       "      <td>33729</td>\n",
       "      <td>2016-03-15 03:16:28</td>\n",
       "    </tr>\n",
       "    <tr>\n",
       "      <th>4</th>\n",
       "      <td>2016-04-01 14:38:50</td>\n",
       "      <td>Ford_Focus_1_6_Benzin_TÜV_neu_ist_sehr_gepfleg...</td>\n",
       "      <td>privat</td>\n",
       "      <td>Angebot</td>\n",
       "      <td>$1,350</td>\n",
       "      <td>test</td>\n",
       "      <td>kombi</td>\n",
       "      <td>2003</td>\n",
       "      <td>manuell</td>\n",
       "      <td>0</td>\n",
       "      <td>focus</td>\n",
       "      <td>150,000km</td>\n",
       "      <td>7</td>\n",
       "      <td>benzin</td>\n",
       "      <td>ford</td>\n",
       "      <td>nein</td>\n",
       "      <td>2016-04-01 00:00:00</td>\n",
       "      <td>0</td>\n",
       "      <td>39218</td>\n",
       "      <td>2016-04-01 14:38:50</td>\n",
       "    </tr>\n",
       "  </tbody>\n",
       "</table>\n",
       "</div>"
      ],
      "text/plain": [
       "           dateCrawled                                               name  \\\n",
       "0  2016-03-26 17:47:46                   Peugeot_807_160_NAVTECH_ON_BOARD   \n",
       "1  2016-04-04 13:38:56         BMW_740i_4_4_Liter_HAMANN_UMBAU_Mega_Optik   \n",
       "2  2016-03-26 18:57:24                         Volkswagen_Golf_1.6_United   \n",
       "3  2016-03-12 16:58:10  Smart_smart_fortwo_coupe_softouch/F1/Klima/Pan...   \n",
       "4  2016-04-01 14:38:50  Ford_Focus_1_6_Benzin_TÜV_neu_ist_sehr_gepfleg...   \n",
       "\n",
       "   seller offerType   price   abtest vehicleType  yearOfRegistration  \\\n",
       "0  privat   Angebot  $5,000  control         bus                2004   \n",
       "1  privat   Angebot  $8,500  control   limousine                1997   \n",
       "2  privat   Angebot  $8,990     test   limousine                2009   \n",
       "3  privat   Angebot  $4,350  control  kleinwagen                2007   \n",
       "4  privat   Angebot  $1,350     test       kombi                2003   \n",
       "\n",
       "     gearbox  powerPS   model   odometer  monthOfRegistration fuelType  \\\n",
       "0    manuell      158  andere  150,000km                    3      lpg   \n",
       "1  automatik      286     7er  150,000km                    6   benzin   \n",
       "2    manuell      102    golf   70,000km                    7   benzin   \n",
       "3  automatik       71  fortwo   70,000km                    6   benzin   \n",
       "4    manuell        0   focus  150,000km                    7   benzin   \n",
       "\n",
       "        brand notRepairedDamage          dateCreated  nrOfPictures  \\\n",
       "0     peugeot              nein  2016-03-26 00:00:00             0   \n",
       "1         bmw              nein  2016-04-04 00:00:00             0   \n",
       "2  volkswagen              nein  2016-03-26 00:00:00             0   \n",
       "3       smart              nein  2016-03-12 00:00:00             0   \n",
       "4        ford              nein  2016-04-01 00:00:00             0   \n",
       "\n",
       "   postalCode             lastSeen  \n",
       "0       79588  2016-04-06 06:45:54  \n",
       "1       71034  2016-04-06 14:45:08  \n",
       "2       35394  2016-04-06 20:15:37  \n",
       "3       33729  2016-03-15 03:16:28  \n",
       "4       39218  2016-04-01 14:38:50  "
      ]
     },
     "execution_count": 3,
     "metadata": {},
     "output_type": "execute_result"
    }
   ],
   "source": [
    "autos.head()"
   ]
  },
  {
   "cell_type": "markdown",
   "metadata": {},
   "source": [
    "From printing out the info associated with the dataframe we see that, vehicleType, gearbox, model, fuelType, notRepairedDamage all have missing values. There are 20 total columns, 5 of which are of the int type.\n",
    "<br><br>\n",
    "From our first few values we can determine that our dataset is not in english."
   ]
  },
  {
   "cell_type": "code",
   "execution_count": 4,
   "metadata": {
    "scrolled": true
   },
   "outputs": [
    {
     "data": {
      "text/plain": [
       "Index(['dateCrawled', 'name', 'seller', 'offerType', 'price', 'abtest',\n",
       "       'vehicleType', 'yearOfRegistration', 'gearbox', 'powerPS', 'model',\n",
       "       'odometer', 'monthOfRegistration', 'fuelType', 'brand',\n",
       "       'notRepairedDamage', 'dateCreated', 'nrOfPictures', 'postalCode',\n",
       "       'lastSeen'],\n",
       "      dtype='object')"
      ]
     },
     "execution_count": 4,
     "metadata": {},
     "output_type": "execute_result"
    }
   ],
   "source": [
    "autos.columns"
   ]
  },
  {
   "cell_type": "code",
   "execution_count": 5,
   "metadata": {},
   "outputs": [],
   "source": [
    "col_headers = ['date_crawled', 'name', 'seller', 'offer_type', 'price', 'abtest',\n",
    "       'vehicle_type', 'registration_year', 'gearbox', 'power_ps', 'model',\n",
    "       'odometer', 'registration_month', 'fuel_type', 'brand',\n",
    "       'unrepaired_damage', 'ad_created', 'nr_of_pictures', 'postal_code',\n",
    "       'last_seen']\n",
    "\n",
    "autos.columns = col_headers"
   ]
  },
  {
   "cell_type": "markdown",
   "metadata": {},
   "source": [
    "Camelcase isn't standard for most python users so we've converted it into snakecase to maintain consistency with the rest of our code."
   ]
  },
  {
   "cell_type": "code",
   "execution_count": 6,
   "metadata": {},
   "outputs": [],
   "source": [
    "# Used for analysis commited out because it would just be a long slow of information when I push this onto github and view it\n",
    "# for col in col_headers:\n",
    "#     print(col)\n",
    "#     val = autos[col].value_counts()\n",
    "#     print(val)\n",
    "#     autos[col].head(3)\n",
    "#     print('\\n')\n",
    "#     print('\\n')"
   ]
  },
  {
   "cell_type": "code",
   "execution_count": 7,
   "metadata": {
    "scrolled": true
   },
   "outputs": [],
   "source": [
    "autos.drop(['seller', 'offer_type', 'nr_of_pictures', 'date_crawled'], axis=1, inplace=True)"
   ]
  },
  {
   "cell_type": "code",
   "execution_count": 8,
   "metadata": {},
   "outputs": [],
   "source": [
    "autos['price'] = autos['price'].str.replace('$', '').str.replace(',', '').astype(float)\n",
    "autos['odometer'] = autos['odometer'].str.replace('km', '').str.replace(',', '').astype(int)\n",
    "autos.rename({'odometer': 'odometer_km'}, axis=1, inplace=True)"
   ]
  },
  {
   "cell_type": "markdown",
   "metadata": {},
   "source": [
    "The following columns have been removed due to the lack of variable data: `seller`, `offer_type`, `nr_of_pictures`<br>\n",
    "`date_crawled` has been removed due to being unimportant in analysing the cars themselves.\n",
    "<br>\n",
    "`price` has been cleaned up and now stores its data as a float.\n",
    "<br>\n",
    "`odometer` has been renamed to `odometer_km`, cleaned up and now stores its data as an integer.\n"
   ]
  },
  {
   "cell_type": "code",
   "execution_count": 9,
   "metadata": {},
   "outputs": [],
   "source": [
    "def filter_minmax(mi, ma, col):\n",
    "    return (autos[col] > mi) & (autos[col] < ma)"
   ]
  },
  {
   "cell_type": "code",
   "execution_count": 10,
   "metadata": {},
   "outputs": [
    {
     "name": "stdout",
     "output_type": "stream",
     "text": [
      "FOR CARS RANGING BETWEEN 6666 AND 1666666\n",
      "=====\n",
      "AVERAGE COST: 15,395.58\n",
      "MEDIAN COST: 11,600.00\n",
      "MOST FREQUENT COST: 8,500.00\n"
     ]
    }
   ],
   "source": [
    "#The tenth most expensive car sold of all time was sold at the price of 3 million so we'll use this as our maximum\n",
    "maximum_price = 1666666\n",
    "\n",
    "#Because this is a used car dealership we'll start including values about 1/3 the average of a new car. \n",
    "minimum_price = 6666\n",
    "\n",
    "price = autos[filter_minmax(minimum_price, maximum_price, 'price')]['price']\n",
    "price_average = price.mean()\n",
    "price_median = price.median()\n",
    "price_most_reoccuring = 8500 # was done using .value_count() on price\n",
    "\n",
    "print('FOR CARS RANGING BETWEEN {} AND {}'.format(minimum_price, maximum_price))\n",
    "print('=====')\n",
    "\n",
    "print(f'AVERAGE COST: {price_average:,.2f}')\n",
    "print(f'MEDIAN COST: {price_median:,.2f}')\n",
    "print(f'MOST FREQUENT COST: {price_most_reoccuring:,.2f}')"
   ]
  },
  {
   "cell_type": "markdown",
   "metadata": {},
   "source": [
    "Using [this](https://www.motor1.com/features/308149/most-expensive-new-cars-ever/) list we took the least expensive, expensive car and used that as our maximum. The minimum price is set to a 1/3 of the price of an average brand new car. Given that this data set has its origins in Germany we then converted the price to DEM by dividing 3 million (our maximum) and 12,000 (our minimum) by 1.8 which would be the conversion from USD to DEM.<br><br>\n",
    "Using the methods build into the pandas DataFrame and Series classes we find:\n",
    "- The average cost - 15,000 DEM\n",
    "- The median cost - 11,600 DEM\n",
    "- The most frequent pricing - 8,500 DEM with 227 entries in our dataset of 14,000 within the specified price range."
   ]
  },
  {
   "cell_type": "code",
   "execution_count": 11,
   "metadata": {
    "scrolled": true
   },
   "outputs": [],
   "source": [
    "ad_created = autos['ad_created'].str[:10].value_counts(normalize=True, dropna=False).sort_index()\n",
    "reg_year = autos['registration_year'].value_counts().sort_index()\n",
    "reg_month = autos['registration_month'].value_counts(normalize=True, dropna=False).sort_index()"
   ]
  },
  {
   "cell_type": "code",
   "execution_count": 12,
   "metadata": {
    "scrolled": true
   },
   "outputs": [
    {
     "data": {
      "text/plain": [
       "1000       1\n",
       "1001       1\n",
       "1111       1\n",
       "1500       1\n",
       "1800       2\n",
       "1910       9\n",
       "1927       1\n",
       "1929       1\n",
       "1931       1\n",
       "1934       2\n",
       "1937       4\n",
       "1938       1\n",
       "1939       1\n",
       "1941       2\n",
       "1943       1\n",
       "1948       1\n",
       "1950       3\n",
       "1951       2\n",
       "1952       1\n",
       "1953       1\n",
       "1954       2\n",
       "1955       2\n",
       "1956       5\n",
       "1957       2\n",
       "1958       4\n",
       "1959       7\n",
       "1960      34\n",
       "1961       6\n",
       "1962       4\n",
       "1963       9\n",
       "        ... \n",
       "2001    2703\n",
       "2002    2533\n",
       "2003    2727\n",
       "2004    2737\n",
       "2005    3015\n",
       "2006    2708\n",
       "2007    2304\n",
       "2008    2231\n",
       "2009    2098\n",
       "2010    1597\n",
       "2011    1634\n",
       "2012    1323\n",
       "2013     806\n",
       "2014     666\n",
       "2015     399\n",
       "2016    1316\n",
       "2017    1453\n",
       "2018     492\n",
       "2019       3\n",
       "2800       1\n",
       "4100       1\n",
       "4500       1\n",
       "4800       1\n",
       "5000       4\n",
       "5911       1\n",
       "6200       1\n",
       "8888       1\n",
       "9000       2\n",
       "9996       1\n",
       "9999       4\n",
       "Name: registration_year, Length: 97, dtype: int64"
      ]
     },
     "execution_count": 12,
     "metadata": {},
     "output_type": "execute_result"
    }
   ],
   "source": [
    "reg_year"
   ]
  },
  {
   "cell_type": "markdown",
   "metadata": {},
   "source": [
    "I don't know much about cars, and currently I don't own a car, but registration year seems to be when the car was first registered, the dataset was taken in 2016 so everything past 2017 is either incorrect or preordered. Going furthur into the future everything past the 2800 point is gurentee to be incorrect, same with cars registered before the 1800s. <br><br>\n",
    "A bit skepticle for cars in the early 20th century but it's possible seeing the modern car was made in 1886."
   ]
  },
  {
   "cell_type": "code",
   "execution_count": 13,
   "metadata": {
    "scrolled": true
   },
   "outputs": [
    {
     "data": {
      "text/plain": [
       "0     10.150\n",
       "1      6.564\n",
       "2      6.016\n",
       "3     10.142\n",
       "4      8.204\n",
       "5      8.214\n",
       "6      8.736\n",
       "7      7.898\n",
       "8      6.382\n",
       "9      6.778\n",
       "10     7.302\n",
       "11     6.720\n",
       "12     6.894\n",
       "Name: registration_month, dtype: float64"
      ]
     },
     "execution_count": 13,
     "metadata": {},
     "output_type": "execute_result"
    }
   ],
   "source": [
    "reg_month * 100 # 100 to see the values in actual percentages"
   ]
  },
  {
   "cell_type": "markdown",
   "metadata": {},
   "source": [
    "Other than the fact that there are 13 months \\[0 or 12 probably means null] there doesn't seem to be any outliers in this data slice."
   ]
  },
  {
   "cell_type": "code",
   "execution_count": 14,
   "metadata": {
    "scrolled": true
   },
   "outputs": [
    {
     "data": {
      "text/plain": [
       "2015-06-11    0.002\n",
       "2015-08-10    0.002\n",
       "2015-09-09    0.002\n",
       "2015-11-10    0.002\n",
       "2015-12-05    0.002\n",
       "2015-12-30    0.002\n",
       "2016-01-03    0.002\n",
       "2016-01-07    0.002\n",
       "2016-01-10    0.004\n",
       "2016-01-13    0.002\n",
       "2016-01-14    0.002\n",
       "2016-01-16    0.002\n",
       "2016-01-22    0.002\n",
       "2016-01-27    0.006\n",
       "2016-01-29    0.002\n",
       "2016-02-01    0.002\n",
       "2016-02-02    0.004\n",
       "2016-02-05    0.004\n",
       "2016-02-07    0.002\n",
       "2016-02-08    0.002\n",
       "2016-02-09    0.004\n",
       "2016-02-11    0.002\n",
       "2016-02-12    0.006\n",
       "2016-02-14    0.004\n",
       "2016-02-16    0.002\n",
       "2016-02-17    0.002\n",
       "2016-02-18    0.004\n",
       "2016-02-19    0.006\n",
       "2016-02-20    0.004\n",
       "2016-02-21    0.006\n",
       "              ...  \n",
       "2016-03-09    3.324\n",
       "2016-03-10    3.186\n",
       "2016-03-11    3.278\n",
       "2016-03-12    3.662\n",
       "2016-03-13    1.692\n",
       "2016-03-14    3.522\n",
       "2016-03-15    3.374\n",
       "2016-03-16    3.000\n",
       "2016-03-17    3.120\n",
       "2016-03-18    1.372\n",
       "2016-03-19    3.384\n",
       "2016-03-20    3.786\n",
       "2016-03-21    3.772\n",
       "2016-03-22    3.280\n",
       "2016-03-23    3.218\n",
       "2016-03-24    2.908\n",
       "2016-03-25    3.188\n",
       "2016-03-26    3.256\n",
       "2016-03-27    3.090\n",
       "2016-03-28    3.496\n",
       "2016-03-29    3.414\n",
       "2016-03-30    3.344\n",
       "2016-03-31    3.192\n",
       "2016-04-01    3.380\n",
       "2016-04-02    3.508\n",
       "2016-04-03    3.892\n",
       "2016-04-04    3.688\n",
       "2016-04-05    1.184\n",
       "2016-04-06    0.326\n",
       "2016-04-07    0.128\n",
       "Name: ad_created, Length: 76, dtype: float64"
      ]
     },
     "execution_count": 14,
     "metadata": {},
     "output_type": "execute_result"
    }
   ],
   "source": [
    "ad_created * 100"
   ]
  },
  {
   "cell_type": "markdown",
   "metadata": {},
   "source": [
    "The general trend here seems to be cars tend to get sold the longer they're up.(Or atleast get taken down by the owner) Don't really think thats at all surprising."
   ]
  },
  {
   "cell_type": "code",
   "execution_count": 15,
   "metadata": {
    "scrolled": true
   },
   "outputs": [
    {
     "data": {
      "text/plain": [
       "1950    0.006249\n",
       "1951    0.004166\n",
       "1952    0.002083\n",
       "1953    0.002083\n",
       "1954    0.004166\n",
       "1955    0.004166\n",
       "1956    0.010416\n",
       "1957    0.004166\n",
       "1958    0.008333\n",
       "1959    0.014582\n",
       "1960    0.070827\n",
       "1961    0.012499\n",
       "1962    0.008333\n",
       "1963    0.018748\n",
       "1964    0.024998\n",
       "1965    0.035414\n",
       "1966    0.045830\n",
       "1967    0.056245\n",
       "1968    0.054162\n",
       "1969    0.039580\n",
       "1970    0.093742\n",
       "1971    0.056245\n",
       "1972    0.072911\n",
       "1973    0.054162\n",
       "1974    0.049996\n",
       "1975    0.039580\n",
       "1976    0.056245\n",
       "1977    0.045830\n",
       "1978    0.097909\n",
       "1979    0.072911\n",
       "          ...   \n",
       "1987    0.156237\n",
       "1988    0.295809\n",
       "1989    0.377052\n",
       "1990    0.822848\n",
       "1991    0.741605\n",
       "1992    0.814515\n",
       "1993    0.927006\n",
       "1994    1.374885\n",
       "1995    2.735189\n",
       "1996    3.008083\n",
       "1997    4.224648\n",
       "1998    5.109991\n",
       "1999    6.249479\n",
       "2000    6.986918\n",
       "2001    5.630781\n",
       "2002    5.276644\n",
       "2003    5.680777\n",
       "2004    5.701608\n",
       "2005    6.280727\n",
       "2006    5.641197\n",
       "2007    4.799600\n",
       "2008    4.647529\n",
       "2009    4.370469\n",
       "2010    3.326806\n",
       "2011    3.403883\n",
       "2012    2.756020\n",
       "2013    1.679027\n",
       "2014    1.387384\n",
       "2015    0.831181\n",
       "2016    2.741438\n",
       "Name: registration_year, Length: 67, dtype: float64"
      ]
     },
     "execution_count": 15,
     "metadata": {},
     "output_type": "execute_result"
    }
   ],
   "source": [
    "years = autos['registration_year']\n",
    "lowest_year = 1950\n",
    "highest_year = 2016\n",
    "reg_year = years.loc[(years >= lowest_year) & (years <= highest_year)].value_counts(normalize=True).sort_index()\n",
    "reg_year * 100"
   ]
  },
  {
   "cell_type": "markdown",
   "metadata": {},
   "source": [
    "To clean up our registration year a bit we'll make sure our data is as correct as can be without taking out too many data points. <br><br>\n",
    "Our lower bound will be 1950, it could potentially be lower but cars made prior to the 1950s have to be maintained incredibly well.<br>Our upper bound will be 2016 because that's the year that this dataset was screen scrapped, while it removes quite a bit of datapoints from potential preorders for the 2017 year this ensures our data is more accurate by not including potential incorrect data from the future.\n",
    "<br><br>\n",
    "From this data and our previous analysis of the registration year we can conclude that most cars being sold have been registered for at least 10 years, with lower sell rates the closer it is to the most recent year."
   ]
  },
  {
   "cell_type": "code",
   "execution_count": 16,
   "metadata": {},
   "outputs": [],
   "source": [
    "brands_average_price = {}\n",
    "brands_average_distance = {}\n",
    "\n",
    "brands = ['volkswagen', 'opel', 'bmw', 'mercedes_benz', 'audi', 'ford']\n",
    "\n",
    "# filtering the prices\n",
    "autos = autos[filter_minmax(5000, maximum_price, 'price')]\n",
    "\n",
    "# filtering the registration year\n",
    "autos = autos[filter_minmax(1950, 2017, 'registration_year')]\n",
    "\n",
    "for brand in brands:\n",
    "    autos_filter = autos[autos['brand'] == brand]\n",
    "    autos_fil_price_avg = autos_filter['price'].mean()\n",
    "    autos_fil_dist_avg = autos_filter['odometer_km'].mean()\n",
    "    \n",
    "    brands_average_price[brand] = autos_fil_price_avg\n",
    "    brands_average_distance[brand] = autos_fil_dist_avg\n",
    "    \n"
   ]
  },
  {
   "cell_type": "code",
   "execution_count": 17,
   "metadata": {},
   "outputs": [
    {
     "name": "stdout",
     "output_type": "stream",
     "text": [
      "The average cost of a volkswagen vehicle is $12,392.59.\n",
      "\n",
      "The average cost of a opel vehicle is $9,385.39.\n",
      "\n",
      "The average cost of a bmw vehicle is $13,999.85.\n",
      "\n",
      "The average cost of a mercedes_benz vehicle is $14,779.38.\n",
      "\n",
      "The average cost of a audi vehicle is $15,127.31.\n",
      "\n",
      "The average cost of a ford vehicle is $12,920.77.\n",
      "\n"
     ]
    }
   ],
   "source": [
    "for brand, price in brands_average_price.items():\n",
    "    print(f'The average cost of a {brand} vehicle is ${price:,.2f}.')\n",
    "    print()"
   ]
  },
  {
   "cell_type": "code",
   "execution_count": 18,
   "metadata": {},
   "outputs": [
    {
     "name": "stdout",
     "output_type": "stream",
     "text": [
      "The average distance that a volkswagen vehicle drove is 107,437.54km.\n",
      "\n",
      "The average distance that a opel vehicle drove is 91,081.24km.\n",
      "\n",
      "The average distance that a bmw vehicle drove is 123,249.18km.\n",
      "\n",
      "The average distance that a mercedes_benz vehicle drove is 118,777.14km.\n",
      "\n",
      "The average distance that a audi vehicle drove is 115,725.84km.\n",
      "\n",
      "The average distance that a ford vehicle drove is 91,714.91km.\n",
      "\n"
     ]
    }
   ],
   "source": [
    "for brand, distance in brands_average_distance.items():\n",
    "    print(f'The average distance that a {brand} vehicle drove is {distance:,.2f}km.')\n",
    "    print()"
   ]
  },
  {
   "cell_type": "markdown",
   "metadata": {},
   "source": [
    "We first filter down our dataset to remove outliers. Our first filter filtered for all cars within a certain price range, the range we choose was 5000 to `maximum_price` (1,666,666 the same max price as before). We choose 5000 instead of the previous min to give us more data to work with for the second filter. Our second filter removes all entries that are not within the registration years 1950-2016. <br><br> We then choose multiple brands, the brands I choose `['volkswagen', 'opel', 'bmw', 'mercedes_benz', 'audi', 'ford']` are the 6 brands with the most entries this means that the results will be less skewed compare to analysing brands with few entries.<br><br>We then loop through our dataset 6 times, one for each brand and filter the dataset furthur by selecting only points where the brand is equal to the brand we're looking for. We then extract out the `price` and the `odometer_km` from the data set and use the `.mean()` method to calculate the average price and distance. Finally we insert the results into two dictionaries, brands_average_price for the prices and brands_average_distance for the distance.\n",
    "    "
   ]
  },
  {
   "cell_type": "markdown",
   "metadata": {},
   "source": [
    "From this analysis we can see that audi, mercedes benz, bmw are the three most expensive of the six, volkswagen and ford are the in the middle of price ranges and opel vehicles are on the cheaper end.<br><br>\n",
    "\n",
    "For the average distance traveled audi, mercedes benz, bmw on average have been driven more than the other three choices with volkswagen coming in forth. Ford and opel vehicles have been driven less than the other options with almost identical km driven with ~91km each. "
   ]
  }
 ],
 "metadata": {
  "kernelspec": {
   "display_name": "Python 3",
   "language": "python",
   "name": "python3"
  },
  "language_info": {
   "codemirror_mode": {
    "name": "ipython",
    "version": 3
   },
   "file_extension": ".py",
   "mimetype": "text/x-python",
   "name": "python",
   "nbconvert_exporter": "python",
   "pygments_lexer": "ipython3",
   "version": "3.7.3"
  }
 },
 "nbformat": 4,
 "nbformat_minor": 2
}
